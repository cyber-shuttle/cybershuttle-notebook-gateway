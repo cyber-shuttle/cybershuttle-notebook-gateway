{
 "cells": [
  {
   "cell_type": "code",
   "execution_count": null,
   "id": "322ee0de",
   "metadata": {
    "tags": [
     "parameters"
    ]
   },
   "outputs": [],
   "source": [
    "load = \"poisson\"\n",
    "λ    = 1.0        # rate = 1 req/sec\n",
    "f    = 10         # freq = 10 fn calls/sec\n",
    "T    = 3600       # time = 3600 sec"
   ]
  },
  {
   "cell_type": "code",
   "execution_count": 37,
   "id": "9deeddba-d083-4488-8580-3a0dc85bc014",
   "metadata": {
    "execution": {
     "iopub.execute_input": "2024-04-21T17:40:46.858911Z",
     "iopub.status.busy": "2024-04-21T17:40:46.858184Z",
     "iopub.status.idle": "2024-04-21T17:41:01.746047Z",
     "shell.execute_reply": "2024-04-21T17:41:01.745441Z",
     "shell.execute_reply.started": "2024-04-21T17:40:46.858887Z"
    }
   },
   "outputs": [],
   "source": [
    "# this is a sample load test\n",
    "import time\n",
    "from tqdm import tqdm\n",
    "import numpy as np\n",
    "from scipy.stats import poisson\n",
    "\n",
    "λ = 1.0   # rate = 1 req/sec\n",
    "f = 10    # freq = 10 fn calls/sec\n",
    "T = 3600  # time = 3600 sec\n",
    "\n",
    "def poisson_io_load(λ, f, T):\n",
    "    \"\"\"\n",
    "    poisson io load\n",
    "    \n",
    "    \"\"\"\n",
    "    Δ = 1 / f\n",
    "    N = T * f\n",
    "    counts: np.ndarray = poisson.rvs(mu=λ/f, size=(N,)) # type: ignore\n",
    "    pbar = tqdm(total=sum(counts))\n",
    "    for freq in counts.tolist():\n",
    "        for _ in range(freq):\n",
    "            pbar.update()\n",
    "        time.sleep(Δ)\n",
    "\n",
    "def constant_io_load(f, T):\n",
    "    \"\"\"\n",
    "    constant-rate io load\n",
    "    \n",
    "    \"\"\"\n",
    "    Δ = 1 / f\n",
    "    N = T * f\n",
    "    for _ in tqdm(range(N)):\n",
    "        time.sleep(Δ)"
   ]
  },
  {
   "cell_type": "code",
   "execution_count": null,
   "id": "d865e932",
   "metadata": {},
   "outputs": [],
   "source": [
    "if load == \"constant\":\n",
    "    constant_io_load(f, T)\n",
    "\n",
    "if load == \"poisson\":\n",
    "    poisson_io_load(λ, f, T)"
   ]
  }
 ],
 "metadata": {
  "kernelspec": {
   "display_name": "Python 3",
   "language": "python",
   "name": "python3"
  },
  "language_info": {
   "codemirror_mode": {
    "name": "ipython",
    "version": 3
   },
   "file_extension": ".py",
   "mimetype": "text/x-python",
   "name": "python",
   "nbconvert_exporter": "python",
   "pygments_lexer": "ipython3",
   "version": "3.10.14"
  }
 },
 "nbformat": 4,
 "nbformat_minor": 5
}
