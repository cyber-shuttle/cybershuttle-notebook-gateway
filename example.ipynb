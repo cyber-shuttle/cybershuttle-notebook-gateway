{
 "cells": [
  {
   "cell_type": "code",
   "execution_count": 1,
   "id": "9c7e43c1-810c-4118-b060-7a0972f970f7",
   "metadata": {
    "execution": {
     "iopub.execute_input": "2024-04-26T18:28:24.399591Z",
     "iopub.status.busy": "2024-04-26T18:28:24.399054Z",
     "iopub.status.idle": "2024-04-26T18:28:24.442174Z",
     "shell.execute_reply": "2024-04-26T18:28:24.441512Z",
     "shell.execute_reply.started": "2024-04-26T18:28:24.399567Z"
    }
   },
   "outputs": [
    {
     "name": "stdout",
     "output_type": "stream",
     "text": [
      "yasithvc-compute-0.novalocal\n"
     ]
    }
   ],
   "source": [
    "%%sh\n",
    "\n",
    "hostname"
   ]
  },
  {
   "cell_type": "code",
   "execution_count": 2,
   "id": "53014678-5c4b-41cb-85cb-588de89448ed",
   "metadata": {
    "execution": {
     "iopub.execute_input": "2024-04-26T18:28:25.937800Z",
     "iopub.status.busy": "2024-04-26T18:28:25.936878Z",
     "iopub.status.idle": "2024-04-26T18:28:25.940539Z",
     "shell.execute_reply": "2024-04-26T18:28:25.939974Z",
     "shell.execute_reply.started": "2024-04-26T18:28:25.937777Z"
    }
   },
   "outputs": [],
   "source": [
    "def simple_test():\n",
    "    # local\n",
    "    x = 1\n",
    "    x = x * 2"
   ]
  },
  {
   "cell_type": "code",
   "execution_count": 3,
   "id": "9deeddba-d083-4488-8580-3a0dc85bc014",
   "metadata": {
    "execution": {
     "iopub.execute_input": "2024-04-26T18:28:29.698722Z",
     "iopub.status.busy": "2024-04-26T18:28:29.698453Z",
     "iopub.status.idle": "2024-04-26T18:28:29.703177Z",
     "shell.execute_reply": "2024-04-26T18:28:29.702545Z",
     "shell.execute_reply.started": "2024-04-26T18:28:29.698703Z"
    }
   },
   "outputs": [
    {
     "name": "stdout",
     "output_type": "stream",
     "text": [
      "The slowest run took 8.09 times longer than the fastest. This could mean that an intermediate result is being cached.\n",
      "372 ns ± 332 ns per loop (mean ± std. dev. of 7 runs, 1 loop each)\n"
     ]
    }
   ],
   "source": [
    "%%timeit -n 1\n",
    "simple_test()"
   ]
  },
  {
   "cell_type": "code",
   "execution_count": 4,
   "id": "f7d455e7-80c7-4ace-b156-0924c1470239",
   "metadata": {
    "execution": {
     "iopub.execute_input": "2024-04-26T18:28:52.925576Z",
     "iopub.status.busy": "2024-04-26T18:28:52.925280Z",
     "iopub.status.idle": "2024-04-26T18:28:57.906925Z",
     "shell.execute_reply": "2024-04-26T18:28:57.906425Z",
     "shell.execute_reply.started": "2024-04-26T18:28:52.925554Z"
    }
   },
   "outputs": [
    {
     "name": "stdout",
     "output_type": "stream",
     "text": [
      "71.1 ns ± 0.124 ns per loop (mean ± std. dev. of 7 runs, 10,000,000 loops each)\n"
     ]
    }
   ],
   "source": [
    "%%timeit -n 10000000\n",
    "simple_test()"
   ]
  },
  {
   "cell_type": "code",
   "execution_count": 5,
   "id": "f54ab8fb-2ab8-4fee-85c0-8f6d490fd7b8",
   "metadata": {
    "execution": {
     "iopub.execute_input": "2024-04-26T18:28:57.908005Z",
     "iopub.status.busy": "2024-04-26T18:28:57.907823Z",
     "iopub.status.idle": "2024-04-26T18:29:02.878844Z",
     "shell.execute_reply": "2024-04-26T18:29:02.878066Z",
     "shell.execute_reply.started": "2024-04-26T18:28:57.907986Z"
    }
   },
   "outputs": [
    {
     "name": "stdout",
     "output_type": "stream",
     "text": [
      "70.9 ns ± 0.0591 ns per loop (mean ± std. dev. of 7 runs, 10,000,000 loops each)\n"
     ]
    }
   ],
   "source": [
    "%%timeit -n 10000000\n",
    "simple_test()"
   ]
  },
  {
   "cell_type": "code",
   "execution_count": 6,
   "id": "bc74b941-40dd-4e40-9f31-26cc1b74e5e6",
   "metadata": {
    "execution": {
     "iopub.execute_input": "2024-04-26T18:29:02.879894Z",
     "iopub.status.busy": "2024-04-26T18:29:02.879691Z",
     "iopub.status.idle": "2024-04-26T18:29:07.863047Z",
     "shell.execute_reply": "2024-04-26T18:29:07.862258Z",
     "shell.execute_reply.started": "2024-04-26T18:29:02.879874Z"
    }
   },
   "outputs": [
    {
     "name": "stdout",
     "output_type": "stream",
     "text": [
      "71.1 ns ± 0.0612 ns per loop (mean ± std. dev. of 7 runs, 10,000,000 loops each)\n"
     ]
    }
   ],
   "source": [
    "%%timeit -n 10000000\n",
    "simple_test()"
   ]
  },
  {
   "cell_type": "code",
   "execution_count": 7,
   "id": "c2efa225-859f-455a-b258-917520b56965",
   "metadata": {
    "execution": {
     "iopub.execute_input": "2024-04-26T18:29:07.864809Z",
     "iopub.status.busy": "2024-04-26T18:29:07.864596Z",
     "iopub.status.idle": "2024-04-26T18:29:12.832767Z",
     "shell.execute_reply": "2024-04-26T18:29:12.832133Z",
     "shell.execute_reply.started": "2024-04-26T18:29:07.864790Z"
    }
   },
   "outputs": [
    {
     "name": "stdout",
     "output_type": "stream",
     "text": [
      "70.9 ns ± 0.057 ns per loop (mean ± std. dev. of 7 runs, 10,000,000 loops each)\n"
     ]
    }
   ],
   "source": [
    "%%timeit -n 10000000\n",
    "simple_test()"
   ]
  },
  {
   "cell_type": "code",
   "execution_count": 8,
   "id": "cbb6e2ae-d61b-48a2-9df0-3248b39fdf53",
   "metadata": {
    "execution": {
     "iopub.execute_input": "2024-04-26T18:29:12.833688Z",
     "iopub.status.busy": "2024-04-26T18:29:12.833501Z",
     "iopub.status.idle": "2024-04-26T18:29:17.808787Z",
     "shell.execute_reply": "2024-04-26T18:29:17.808006Z",
     "shell.execute_reply.started": "2024-04-26T18:29:12.833670Z"
    }
   },
   "outputs": [
    {
     "name": "stdout",
     "output_type": "stream",
     "text": [
      "71 ns ± 0.0725 ns per loop (mean ± std. dev. of 7 runs, 10,000,000 loops each)\n"
     ]
    }
   ],
   "source": [
    "%%timeit -n 10000000\n",
    "simple_test()"
   ]
  },
  {
   "cell_type": "code",
   "execution_count": 9,
   "id": "f495ba06-9f34-47fd-a9df-6b42b6cf0ca6",
   "metadata": {
    "execution": {
     "iopub.execute_input": "2024-04-26T18:29:17.809902Z",
     "iopub.status.busy": "2024-04-26T18:29:17.809692Z",
     "iopub.status.idle": "2024-04-26T18:29:22.798135Z",
     "shell.execute_reply": "2024-04-26T18:29:22.797372Z",
     "shell.execute_reply.started": "2024-04-26T18:29:17.809883Z"
    }
   },
   "outputs": [
    {
     "name": "stdout",
     "output_type": "stream",
     "text": [
      "71.2 ns ± 0.0146 ns per loop (mean ± std. dev. of 7 runs, 10,000,000 loops each)\n"
     ]
    }
   ],
   "source": [
    "%%timeit -n 10000000\n",
    "simple_test()"
   ]
  },
  {
   "cell_type": "code",
   "execution_count": 10,
   "id": "06b49ea7-0e77-42f7-bd42-4c74ae74b35e",
   "metadata": {
    "execution": {
     "iopub.execute_input": "2024-04-26T18:29:22.799150Z",
     "iopub.status.busy": "2024-04-26T18:29:22.798973Z",
     "iopub.status.idle": "2024-04-26T18:29:27.780431Z",
     "shell.execute_reply": "2024-04-26T18:29:27.779687Z",
     "shell.execute_reply.started": "2024-04-26T18:29:22.799132Z"
    }
   },
   "outputs": [
    {
     "name": "stdout",
     "output_type": "stream",
     "text": [
      "71.1 ns ± 0.0478 ns per loop (mean ± std. dev. of 7 runs, 10,000,000 loops each)\n"
     ]
    }
   ],
   "source": [
    "%%timeit -n 10000000\n",
    "simple_test()"
   ]
  },
  {
   "cell_type": "code",
   "execution_count": 11,
   "id": "5b335b09-55fb-47fc-9bed-96057bb7a6bb",
   "metadata": {
    "execution": {
     "iopub.execute_input": "2024-04-26T18:29:27.781511Z",
     "iopub.status.busy": "2024-04-26T18:29:27.781321Z",
     "iopub.status.idle": "2024-04-26T18:29:32.777193Z",
     "shell.execute_reply": "2024-04-26T18:29:32.776441Z",
     "shell.execute_reply.started": "2024-04-26T18:29:27.781492Z"
    }
   },
   "outputs": [
    {
     "name": "stdout",
     "output_type": "stream",
     "text": [
      "71.3 ns ± 0.0977 ns per loop (mean ± std. dev. of 7 runs, 10,000,000 loops each)\n"
     ]
    }
   ],
   "source": [
    "%%timeit -n 10000000\n",
    "simple_test()"
   ]
  },
  {
   "cell_type": "code",
   "execution_count": 13,
   "id": "cc4e575f-c7b0-4a78-894b-dda0647a7a17",
   "metadata": {
    "execution": {
     "iopub.execute_input": "2024-04-26T18:30:22.453895Z",
     "iopub.status.busy": "2024-04-26T18:30:22.453683Z",
     "iopub.status.idle": "2024-04-26T18:30:27.425519Z",
     "shell.execute_reply": "2024-04-26T18:30:27.424797Z",
     "shell.execute_reply.started": "2024-04-26T18:30:22.453876Z"
    }
   },
   "outputs": [
    {
     "name": "stdout",
     "output_type": "stream",
     "text": [
      "71 ns ± 0.0907 ns per loop (mean ± std. dev. of 7 runs, 10,000,000 loops each)\n"
     ]
    }
   ],
   "source": [
    "%%timeit -n 10000000\n",
    "simple_test()"
   ]
  },
  {
   "cell_type": "code",
   "execution_count": 14,
   "id": "cbc220d5-8c35-4f07-9500-11e1080300b3",
   "metadata": {
    "execution": {
     "iopub.execute_input": "2024-04-26T18:30:27.426571Z",
     "iopub.status.busy": "2024-04-26T18:30:27.426392Z",
     "iopub.status.idle": "2024-04-26T18:30:32.398420Z",
     "shell.execute_reply": "2024-04-26T18:30:32.397656Z",
     "shell.execute_reply.started": "2024-04-26T18:30:27.426553Z"
    }
   },
   "outputs": [
    {
     "name": "stdout",
     "output_type": "stream",
     "text": [
      "71 ns ± 0.0897 ns per loop (mean ± std. dev. of 7 runs, 10,000,000 loops each)\n"
     ]
    }
   ],
   "source": [
    "%%timeit -n 10000000\n",
    "simple_test()"
   ]
  },
  {
   "cell_type": "code",
   "execution_count": null,
   "id": "86afec41-4569-44b5-ab75-264efa3348f4",
   "metadata": {},
   "outputs": [],
   "source": []
  }
 ],
 "metadata": {
  "kernelspec": {
   "display_name": "yasith_vc",
   "language": "python",
   "name": "yasith_vc"
  },
  "language_info": {
   "codemirror_mode": {
    "name": "ipython",
    "version": 3
   },
   "file_extension": ".py",
   "mimetype": "text/x-python",
   "name": "python",
   "nbconvert_exporter": "python",
   "pygments_lexer": "ipython3",
   "version": "3.10.14"
  }
 },
 "nbformat": 4,
 "nbformat_minor": 5
}
