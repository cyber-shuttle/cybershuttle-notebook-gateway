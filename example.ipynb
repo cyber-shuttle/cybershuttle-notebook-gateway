{
 "cells": [
  {
   "cell_type": "code",
   "execution_count": null,
   "id": "9deeddba-d083-4488-8580-3a0dc85bc014",
   "metadata": {},
   "outputs": [],
   "source": [
    "%%sh\n",
    "\n",
    "pwd\n",
    "which python\n",
    "pip freeze"
   ]
  }
 ],
 "metadata": {
  "kernelspec": {
   "display_name": "gkeyll",
   "language": "python",
   "name": "gkeyll"
  },
  "language_info": {
   "codemirror_mode": {
    "name": "ipython",
    "version": 3
   },
   "file_extension": ".py",
   "mimetype": "text/x-python",
   "name": "python",
   "nbconvert_exporter": "python",
   "pygments_lexer": "ipython3",
   "version": "3.10.14"
  }
 },
 "nbformat": 4,
 "nbformat_minor": 5
}
