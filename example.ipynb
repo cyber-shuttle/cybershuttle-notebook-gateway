{
 "cells": [
  {
   "cell_type": "code",
   "execution_count": 1,
   "id": "9deeddba-d083-4488-8580-3a0dc85bc014",
   "metadata": {
    "execution": {
     "iopub.execute_input": "2024-04-21T17:40:46.858911Z",
     "iopub.status.busy": "2024-04-21T17:40:46.858184Z",
     "iopub.status.idle": "2024-04-21T17:41:01.746047Z",
     "shell.execute_reply": "2024-04-21T17:41:01.745441Z",
     "shell.execute_reply.started": "2024-04-21T17:40:46.858887Z"
    }
   },
   "outputs": [
    {
     "name": "stdout",
     "output_type": "stream",
     "text": [
      "21.3 ns ± 0.532 ns per loop (mean ± std. dev. of 7 runs, 100,000,000 loops each)\n"
     ]
    }
   ],
   "source": [
    "%%timeit -n 100000000\n",
    "# local\n",
    "x = 1\n",
    "x = x * 2"
   ]
  },
  {
   "cell_type": "code",
   "execution_count": 1,
   "id": "9c7e43c1-810c-4118-b060-7a0972f970f7",
   "metadata": {
    "execution": {
     "iopub.execute_input": "2024-04-26T14:26:58.140671Z",
     "iopub.status.busy": "2024-04-26T14:26:58.140436Z",
     "iopub.status.idle": "2024-04-26T14:26:58.147271Z",
     "shell.execute_reply": "2024-04-26T14:26:58.146603Z",
     "shell.execute_reply.started": "2024-04-26T14:26:58.140652Z"
    }
   },
   "outputs": [
    {
     "name": "stdout",
     "output_type": "stream",
     "text": [
      "Hello\n"
     ]
    }
   ],
   "source": [
    "print(\"Hello\")"
   ]
  },
  {
   "cell_type": "code",
   "execution_count": 2,
   "id": "f54ab8fb-2ab8-4fee-85c0-8f6d490fd7b8",
   "metadata": {
    "execution": {
     "iopub.execute_input": "2024-04-21T17:41:01.747367Z",
     "iopub.status.busy": "2024-04-21T17:41:01.747186Z",
     "iopub.status.idle": "2024-04-21T17:41:16.996569Z",
     "shell.execute_reply": "2024-04-21T17:41:16.995920Z",
     "shell.execute_reply.started": "2024-04-21T17:41:01.747349Z"
    }
   },
   "outputs": [
    {
     "name": "stdout",
     "output_type": "stream",
     "text": [
      "21.8 ns ± 0.634 ns per loop (mean ± std. dev. of 7 runs, 100,000,000 loops each)\n"
     ]
    }
   ],
   "source": [
    "%%timeit -n 100000000\n",
    "# local\n",
    "x = 1\n",
    "x = x * 2"
   ]
  },
  {
   "cell_type": "code",
   "execution_count": 3,
   "id": "bc74b941-40dd-4e40-9f31-26cc1b74e5e6",
   "metadata": {
    "execution": {
     "iopub.execute_input": "2024-04-21T17:41:16.997478Z",
     "iopub.status.busy": "2024-04-21T17:41:16.997311Z",
     "iopub.status.idle": "2024-04-21T17:41:31.905325Z",
     "shell.execute_reply": "2024-04-21T17:41:31.904688Z",
     "shell.execute_reply.started": "2024-04-21T17:41:16.997462Z"
    }
   },
   "outputs": [
    {
     "name": "stdout",
     "output_type": "stream",
     "text": [
      "21.3 ns ± 0.386 ns per loop (mean ± std. dev. of 7 runs, 100,000,000 loops each)\n"
     ]
    }
   ],
   "source": [
    "%%timeit -n 100000000\n",
    "# local\n",
    "x = 1\n",
    "x = x * 2"
   ]
  },
  {
   "cell_type": "code",
   "execution_count": 4,
   "id": "c2efa225-859f-455a-b258-917520b56965",
   "metadata": {
    "execution": {
     "iopub.execute_input": "2024-04-21T17:41:31.907032Z",
     "iopub.status.busy": "2024-04-21T17:41:31.906846Z",
     "iopub.status.idle": "2024-04-21T17:41:47.353073Z",
     "shell.execute_reply": "2024-04-21T17:41:47.352369Z",
     "shell.execute_reply.started": "2024-04-21T17:41:31.907016Z"
    }
   },
   "outputs": [
    {
     "name": "stdout",
     "output_type": "stream",
     "text": [
      "22.1 ns ± 0.87 ns per loop (mean ± std. dev. of 7 runs, 100,000,000 loops each)\n"
     ]
    }
   ],
   "source": [
    "%%timeit -n 100000000\n",
    "# local\n",
    "x = 1\n",
    "x = x * 2"
   ]
  },
  {
   "cell_type": "code",
   "execution_count": 5,
   "id": "cbb6e2ae-d61b-48a2-9df0-3248b39fdf53",
   "metadata": {
    "execution": {
     "iopub.execute_input": "2024-04-21T17:41:47.354258Z",
     "iopub.status.busy": "2024-04-21T17:41:47.354081Z",
     "iopub.status.idle": "2024-04-21T17:42:02.145814Z",
     "shell.execute_reply": "2024-04-21T17:42:02.145383Z",
     "shell.execute_reply.started": "2024-04-21T17:41:47.354240Z"
    }
   },
   "outputs": [
    {
     "name": "stdout",
     "output_type": "stream",
     "text": [
      "21.1 ns ± 0.306 ns per loop (mean ± std. dev. of 7 runs, 100,000,000 loops each)\n"
     ]
    }
   ],
   "source": [
    "%%timeit -n 100000000\n",
    "# local\n",
    "x = 1\n",
    "x = x * 2"
   ]
  },
  {
   "cell_type": "code",
   "execution_count": 6,
   "id": "f495ba06-9f34-47fd-a9df-6b42b6cf0ca6",
   "metadata": {
    "execution": {
     "iopub.execute_input": "2024-04-21T17:42:02.146539Z",
     "iopub.status.busy": "2024-04-21T17:42:02.146392Z",
     "iopub.status.idle": "2024-04-21T17:42:16.760136Z",
     "shell.execute_reply": "2024-04-21T17:42:16.759670Z",
     "shell.execute_reply.started": "2024-04-21T17:42:02.146523Z"
    }
   },
   "outputs": [
    {
     "name": "stdout",
     "output_type": "stream",
     "text": [
      "20.9 ns ± 0.366 ns per loop (mean ± std. dev. of 7 runs, 100,000,000 loops each)\n"
     ]
    }
   ],
   "source": [
    "%%timeit -n 100000000\n",
    "# local\n",
    "x = 1\n",
    "x = x * 2"
   ]
  },
  {
   "cell_type": "code",
   "execution_count": 7,
   "id": "06b49ea7-0e77-42f7-bd42-4c74ae74b35e",
   "metadata": {
    "execution": {
     "iopub.execute_input": "2024-04-21T17:42:16.761219Z",
     "iopub.status.busy": "2024-04-21T17:42:16.761055Z",
     "iopub.status.idle": "2024-04-21T17:42:31.786478Z",
     "shell.execute_reply": "2024-04-21T17:42:31.785881Z",
     "shell.execute_reply.started": "2024-04-21T17:42:16.761203Z"
    }
   },
   "outputs": [
    {
     "name": "stdout",
     "output_type": "stream",
     "text": [
      "21.5 ns ± 0.686 ns per loop (mean ± std. dev. of 7 runs, 100,000,000 loops each)\n"
     ]
    }
   ],
   "source": [
    "%%timeit -n 100000000\n",
    "# local\n",
    "x = 1\n",
    "x = x * 2"
   ]
  },
  {
   "cell_type": "code",
   "execution_count": 8,
   "id": "5b335b09-55fb-47fc-9bed-96057bb7a6bb",
   "metadata": {
    "execution": {
     "iopub.execute_input": "2024-04-21T17:42:31.787619Z",
     "iopub.status.busy": "2024-04-21T17:42:31.787451Z",
     "iopub.status.idle": "2024-04-21T17:42:46.458283Z",
     "shell.execute_reply": "2024-04-21T17:42:46.457850Z",
     "shell.execute_reply.started": "2024-04-21T17:42:31.787603Z"
    }
   },
   "outputs": [
    {
     "name": "stdout",
     "output_type": "stream",
     "text": [
      "21 ns ± 0.219 ns per loop (mean ± std. dev. of 7 runs, 100,000,000 loops each)\n"
     ]
    }
   ],
   "source": [
    "%%timeit -n 100000000\n",
    "# local\n",
    "x = 1\n",
    "x = x * 2"
   ]
  },
  {
   "cell_type": "code",
   "execution_count": 9,
   "id": "cc4e575f-c7b0-4a78-894b-dda0647a7a17",
   "metadata": {
    "execution": {
     "iopub.execute_input": "2024-04-21T17:42:46.458982Z",
     "iopub.status.busy": "2024-04-21T17:42:46.458809Z",
     "iopub.status.idle": "2024-04-21T17:43:01.419740Z",
     "shell.execute_reply": "2024-04-21T17:43:01.419138Z",
     "shell.execute_reply.started": "2024-04-21T17:42:46.458966Z"
    }
   },
   "outputs": [
    {
     "name": "stdout",
     "output_type": "stream",
     "text": [
      "21.4 ns ± 0.543 ns per loop (mean ± std. dev. of 7 runs, 100,000,000 loops each)\n"
     ]
    }
   ],
   "source": [
    "%%timeit -n 100000000\n",
    "# local\n",
    "x = 1\n",
    "x = x * 2"
   ]
  },
  {
   "cell_type": "code",
   "execution_count": 10,
   "id": "cbc220d5-8c35-4f07-9500-11e1080300b3",
   "metadata": {
    "execution": {
     "iopub.execute_input": "2024-04-21T17:43:01.421546Z",
     "iopub.status.busy": "2024-04-21T17:43:01.421376Z",
     "iopub.status.idle": "2024-04-21T17:43:16.086661Z",
     "shell.execute_reply": "2024-04-21T17:43:16.086064Z",
     "shell.execute_reply.started": "2024-04-21T17:43:01.421529Z"
    }
   },
   "outputs": [
    {
     "name": "stdout",
     "output_type": "stream",
     "text": [
      "20.9 ns ± 0.411 ns per loop (mean ± std. dev. of 7 runs, 100,000,000 loops each)\n"
     ]
    }
   ],
   "source": [
    "%%timeit -n 100000000\n",
    "# local\n",
    "x = 1\n",
    "x = x * 2"
   ]
  },
  {
   "cell_type": "code",
   "execution_count": null,
   "id": "86afec41-4569-44b5-ab75-264efa3348f4",
   "metadata": {},
   "outputs": [],
   "source": []
  }
 ],
 "metadata": {
  "kernelspec": {
   "display_name": "yasith_vc",
   "language": "python",
   "name": "yasith_vc"
  },
  "language_info": {
   "codemirror_mode": {
    "name": "ipython",
    "version": 3
   },
   "file_extension": ".py",
   "mimetype": "text/x-python",
   "name": "python",
   "nbconvert_exporter": "python",
   "pygments_lexer": "ipython3",
   "version": "3.10.14"
  }
 },
 "nbformat": 4,
 "nbformat_minor": 5
}
